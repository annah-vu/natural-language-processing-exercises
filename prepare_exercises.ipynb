{
 "cells": [
  {
   "cell_type": "code",
   "execution_count": 1,
   "id": "f642799c-19c2-406f-b340-77921106bda8",
   "metadata": {},
   "outputs": [],
   "source": [
    "import unicodedata\n",
    "import re\n",
    "import json\n",
    "\n",
    "import nltk\n",
    "from nltk.tokenize.toktok import ToktokTokenizer\n",
    "from nltk.corpus import stopwords\n",
    "\n",
    "import pandas as pd\n",
    "\n",
    "import acquire"
   ]
  },
  {
   "cell_type": "markdown",
   "id": "44d642b6-890e-4224-a8a2-cd430b823930",
   "metadata": {},
   "source": [
    "### 1.) Define a function named basic_clean. It should take in a string and apply some basic text cleaning to it:"
   ]
  },
  {
   "cell_type": "markdown",
   "id": "1dd83b62-40da-47ac-a98d-04edd0ac32db",
   "metadata": {},
   "source": [
    " - Lowercase everything\n",
    " - normalize unicode characters\n",
    " - replace anything that is not a letter, number, whitespace, or a single quote"
   ]
  },
  {
   "cell_type": "code",
   "execution_count": 2,
   "id": "507697f1-7ba1-4f63-a2eb-31b1098f7b93",
   "metadata": {},
   "outputs": [],
   "source": [
    "def basic_clean(stringcheese):\n",
    "    stringcheese = stringcheese.lower()\n",
    "    stringcheese = unicodedata.normalize('NFKD', stringcheese)\\\n",
    "        .encode('ascii','ignore')\\\n",
    "        .decode('utf-8')\n",
    "    stringcheese = re.sub(r\"[^a-z0-9'\\s]\", '', stringcheese)\n",
    "    return stringcheese"
   ]
  },
  {
   "cell_type": "code",
   "execution_count": 3,
   "id": "278f89a5-ecee-492e-bad8-11459aad1fcf",
   "metadata": {},
   "outputs": [
    {
     "data": {
      "text/plain": [
       "\"Paul Erdős and George Pólya are influential Hungarian mathematicians who contributed a lot to the field. Erdős's name contains the Hungarian letter 'ő' ('o' with double acute accent), but is often incorrectly written as Erdos or Erdös either by mistake or out of typographical necessity\""
      ]
     },
     "execution_count": 3,
     "metadata": {},
     "output_type": "execute_result"
    }
   ],
   "source": [
    "original = \"Paul Erdős and George Pólya are influential Hungarian mathematicians who contributed \\\n",
    "a lot to the field. Erdős's name contains the Hungarian letter 'ő' ('o' with double acute accent), \\\n",
    "but is often incorrectly written as Erdos or Erdös either by mistake or out of typographical necessity\"\n",
    "original"
   ]
  },
  {
   "cell_type": "code",
   "execution_count": 4,
   "id": "5f249eb2-8bbf-4c93-b516-02ef3a269e5b",
   "metadata": {},
   "outputs": [
    {
     "data": {
      "text/plain": [
       "\"paul erdos and george polya are influential hungarian mathematicians who contributed a lot to the field erdos's name contains the hungarian letter 'o' 'o' with double acute accent but is often incorrectly written as erdos or erdos either by mistake or out of typographical necessity\""
      ]
     },
     "execution_count": 4,
     "metadata": {},
     "output_type": "execute_result"
    }
   ],
   "source": [
    "clean_original = basic_clean(original)\n",
    "clean_original"
   ]
  },
  {
   "cell_type": "markdown",
   "id": "5859d635-4f70-4bc9-920e-84ba08ad2fb9",
   "metadata": {},
   "source": [
    "### 2.) Define a function named tokenize. It should take in a string and tokenize all the words in the string."
   ]
  },
  {
   "cell_type": "code",
   "execution_count": 5,
   "id": "ae99a2f8-bbfe-48b8-9d32-88c947ca0a96",
   "metadata": {},
   "outputs": [],
   "source": [
    "def tokenize(stringcheese):\n",
    "    # Create the tokenizer\n",
    "    tokenizer = nltk.tokenize.ToktokTokenizer()\n",
    "\n",
    "    # Use the tokenizer\n",
    "    stringcheese = tokenizer.tokenize(stringcheese, return_str=True)\n",
    "\n",
    "    return stringcheese"
   ]
  },
  {
   "cell_type": "code",
   "execution_count": 6,
   "id": "28dd9f70-2e22-44ab-b630-af07beecdb23",
   "metadata": {},
   "outputs": [
    {
     "data": {
      "text/plain": [
       "\"paul erdos and george polya are influential hungarian mathematicians who contributed a lot to the field erdos ' s name contains the hungarian letter ' o ' ' o ' with double acute accent but is often incorrectly written as erdos or erdos either by mistake or out of typographical necessity\""
      ]
     },
     "execution_count": 6,
     "metadata": {},
     "output_type": "execute_result"
    }
   ],
   "source": [
    "tokenize(clean_original)"
   ]
  },
  {
   "cell_type": "code",
   "execution_count": 7,
   "id": "cb6d73dc-a6db-4a21-92b9-14e91dfd943d",
   "metadata": {},
   "outputs": [],
   "source": [
    "tokenized = tokenize(clean_original)"
   ]
  },
  {
   "cell_type": "markdown",
   "id": "9a1b4ef0-8e84-46a3-be2b-a25b1beb5b1d",
   "metadata": {},
   "source": [
    "### 3.) Define a function named stem. It should accept some text and return the text after applying stemming to all the words."
   ]
  },
  {
   "cell_type": "code",
   "execution_count": 8,
   "id": "66c9a2fc-c8b7-43dc-ad77-563c47b007ac",
   "metadata": {},
   "outputs": [],
   "source": [
    "def stem(stringcheese):\n",
    "    ps = nltk.porter.PorterStemmer()\n",
    "    stems = [ps.stem(word) for word in stringcheese.split()]\n",
    "    stems = ' '.join(stems)\n",
    "    return stems"
   ]
  },
  {
   "cell_type": "code",
   "execution_count": 9,
   "id": "2a92d00e-9044-4f99-abfa-205533ece4aa",
   "metadata": {},
   "outputs": [
    {
     "data": {
      "text/plain": [
       "\"paul erdo and georg polya are influenti hungarian mathematician who contribut a lot to the field erdo ' s name contain the hungarian letter ' o ' ' o ' with doubl acut accent but is often incorrectli written as erdo or erdo either by mistak or out of typograph necess\""
      ]
     },
     "execution_count": 9,
     "metadata": {},
     "output_type": "execute_result"
    }
   ],
   "source": [
    "stemmed = stem(tokenized)\n",
    "stemmed"
   ]
  },
  {
   "cell_type": "markdown",
   "id": "470981d2-b7ff-4b12-a39d-cddcd99006d6",
   "metadata": {},
   "source": [
    "### 4.) Define a function named lemmatize. It should accept some text and return the text after applying lemmatization to each word."
   ]
  },
  {
   "cell_type": "code",
   "execution_count": 10,
   "id": "73ffea10-082f-40c7-a739-4b489e89a03a",
   "metadata": {},
   "outputs": [],
   "source": [
    "def lemmatize(stringcheese):\n",
    "    wnl = nltk.stem.WordNetLemmatizer()\n",
    "    lemmas = [wnl.lemmatize(word) for word in stringcheese.split()]\n",
    "    lemmas = ' '.join(lemmas)\n",
    "    return lemmas"
   ]
  },
  {
   "cell_type": "code",
   "execution_count": 19,
   "id": "ec81d8e2-e621-452f-93a7-b18a261f8b35",
   "metadata": {},
   "outputs": [
    {
     "data": {
      "text/plain": [
       "\"paul erdo and georg polya are influenti hungarian mathematician who contribut a lot to the field erdo ' s name contain the hungarian letter ' o ' ' o ' with doubl acut accent but is often incorrectli written a erdo or erdo either by mistak or out of typograph necess\""
      ]
     },
     "execution_count": 19,
     "metadata": {},
     "output_type": "execute_result"
    }
   ],
   "source": [
    "lemmatized = lemmatize(stemmed)\n",
    "lemmatized"
   ]
  },
  {
   "cell_type": "markdown",
   "id": "62cc9a8e-6571-44a4-9c18-03ce085a42b9",
   "metadata": {},
   "source": [
    "### 5.) Define a function named remove_stopwords. It should accept some text and return the text after removing all the stopwords."
   ]
  },
  {
   "cell_type": "code",
   "execution_count": 22,
   "id": "5d4e7c2d-46c6-4e8d-b7a1-b6c31508c2e6",
   "metadata": {},
   "outputs": [],
   "source": [
    "def remove_stopwords(words, extra_words = [], exclude_words = []):\n",
    "    stopword_list = stopwords.words('english')\n",
    "    \n",
    "    stopword_list = set(stopword_list) - set(exclude_words)\n",
    "    stopword_list = stopword_list.union(set(extra_words))\n",
    "    \n",
    "    words = words.split()\n",
    "    filtered_words = [word for word in words if word not in stopword_list]\n",
    "    article_without_stopwords = ' '.join(filtered_words)\n",
    "    return article_without_stopwords"
   ]
  },
  {
   "cell_type": "code",
   "execution_count": 23,
   "id": "f8516af5-6c2c-453f-9c32-0a17d786c0ed",
   "metadata": {},
   "outputs": [
    {
     "data": {
      "text/plain": [
       "\"paul erdo georg polya influenti hungarian mathematician contribut lot field erdo ' name contain hungarian letter ' ' ' ' doubl acut accent often incorrectli written erdo erdo either mistak typograph necess\""
      ]
     },
     "execution_count": 23,
     "metadata": {},
     "output_type": "execute_result"
    }
   ],
   "source": [
    "remove_stopwords(lemmatized)"
   ]
  },
  {
   "cell_type": "markdown",
   "id": "d9242e24-1215-44e4-9509-d6207a744247",
   "metadata": {},
   "source": [
    "### 6.) Use your data from the acquire to produce a dataframe of the news articles. Name the dataframe news_df."
   ]
  },
  {
   "cell_type": "code",
   "execution_count": 14,
   "id": "68b32a5d-dd89-49d0-b780-5a2837133690",
   "metadata": {},
   "outputs": [],
   "source": [
    "categories = [\"business\", \"sports\", \"technology\", \"entertainment\", \"science\", \"world\"]\n",
    "news_df = acquire.get_all_news_articles(categories)"
   ]
  },
  {
   "cell_type": "code",
   "execution_count": 15,
   "id": "6a1baf11-b5cf-486c-b114-16ed1838b1ba",
   "metadata": {},
   "outputs": [
    {
     "data": {
      "text/html": [
       "<div>\n",
       "<style scoped>\n",
       "    .dataframe tbody tr th:only-of-type {\n",
       "        vertical-align: middle;\n",
       "    }\n",
       "\n",
       "    .dataframe tbody tr th {\n",
       "        vertical-align: top;\n",
       "    }\n",
       "\n",
       "    .dataframe thead th {\n",
       "        text-align: right;\n",
       "    }\n",
       "</style>\n",
       "<table border=\"1\" class=\"dataframe\">\n",
       "  <thead>\n",
       "    <tr style=\"text-align: right;\">\n",
       "      <th></th>\n",
       "      <th>title</th>\n",
       "      <th>content</th>\n",
       "      <th>category</th>\n",
       "    </tr>\n",
       "  </thead>\n",
       "  <tbody>\n",
       "    <tr>\n",
       "      <th>0</th>\n",
       "      <td>China's ex-teacher turned billionaire no more ...</td>\n",
       "      <td>China's Larry Chen, a former teacher who becam...</td>\n",
       "      <td>business</td>\n",
       "    </tr>\n",
       "    <tr>\n",
       "      <th>1</th>\n",
       "      <td>Amazon job posting fuels speculations about pl...</td>\n",
       "      <td>A new job posting by Amazon has fuelled specul...</td>\n",
       "      <td>business</td>\n",
       "    </tr>\n",
       "    <tr>\n",
       "      <th>2</th>\n",
       "      <td>Musk takes a jibe at rival car companies, says...</td>\n",
       "      <td>Tesla CEO and the world's second-richest perso...</td>\n",
       "      <td>business</td>\n",
       "    </tr>\n",
       "    <tr>\n",
       "      <th>3</th>\n",
       "      <td>Govt paid Infosys ₹164.5 crore for new Income ...</td>\n",
       "      <td>The government paid ₹164.5 crore to Infosys to...</td>\n",
       "      <td>business</td>\n",
       "    </tr>\n",
       "    <tr>\n",
       "      <th>4</th>\n",
       "      <td>Mahua Moitra writes to FM to look into 'over-i...</td>\n",
       "      <td>Lok Sabha MP Mahua Moitra has shared a letter ...</td>\n",
       "      <td>business</td>\n",
       "    </tr>\n",
       "    <tr>\n",
       "      <th>...</th>\n",
       "      <td>...</td>\n",
       "      <td>...</td>\n",
       "      <td>...</td>\n",
       "    </tr>\n",
       "    <tr>\n",
       "      <th>142</th>\n",
       "      <td>Ugandan govt spends $30 mn on cars for lawmake...</td>\n",
       "      <td>The Ugandan government was criticised after it...</td>\n",
       "      <td>world</td>\n",
       "    </tr>\n",
       "    <tr>\n",
       "      <th>143</th>\n",
       "      <td>Equatorial Guinea to close UK embassy over san...</td>\n",
       "      <td>Equatorial Guinea's Foreign Minister said that...</td>\n",
       "      <td>world</td>\n",
       "    </tr>\n",
       "    <tr>\n",
       "      <th>144</th>\n",
       "      <td>Lebanese lawmakers pick billionaire Najib Mika...</td>\n",
       "      <td>Lebanese lawmakers during parliamentary consul...</td>\n",
       "      <td>world</td>\n",
       "    </tr>\n",
       "    <tr>\n",
       "      <th>145</th>\n",
       "      <td>Man accused of trying to kill Mali's interim P...</td>\n",
       "      <td>A man accused of trying to kill Mali's interim...</td>\n",
       "      <td>world</td>\n",
       "    </tr>\n",
       "    <tr>\n",
       "      <th>146</th>\n",
       "      <td>Afghan Army chief postpones India visit amid T...</td>\n",
       "      <td>Afghan Army chief General Wali Mohammad Ahmadz...</td>\n",
       "      <td>world</td>\n",
       "    </tr>\n",
       "  </tbody>\n",
       "</table>\n",
       "<p>147 rows × 3 columns</p>\n",
       "</div>"
      ],
      "text/plain": [
       "                                                 title  \\\n",
       "0    China's ex-teacher turned billionaire no more ...   \n",
       "1    Amazon job posting fuels speculations about pl...   \n",
       "2    Musk takes a jibe at rival car companies, says...   \n",
       "3    Govt paid Infosys ₹164.5 crore for new Income ...   \n",
       "4    Mahua Moitra writes to FM to look into 'over-i...   \n",
       "..                                                 ...   \n",
       "142  Ugandan govt spends $30 mn on cars for lawmake...   \n",
       "143  Equatorial Guinea to close UK embassy over san...   \n",
       "144  Lebanese lawmakers pick billionaire Najib Mika...   \n",
       "145  Man accused of trying to kill Mali's interim P...   \n",
       "146  Afghan Army chief postpones India visit amid T...   \n",
       "\n",
       "                                               content  category  \n",
       "0    China's Larry Chen, a former teacher who becam...  business  \n",
       "1    A new job posting by Amazon has fuelled specul...  business  \n",
       "2    Tesla CEO and the world's second-richest perso...  business  \n",
       "3    The government paid ₹164.5 crore to Infosys to...  business  \n",
       "4    Lok Sabha MP Mahua Moitra has shared a letter ...  business  \n",
       "..                                                 ...       ...  \n",
       "142  The Ugandan government was criticised after it...     world  \n",
       "143  Equatorial Guinea's Foreign Minister said that...     world  \n",
       "144  Lebanese lawmakers during parliamentary consul...     world  \n",
       "145  A man accused of trying to kill Mali's interim...     world  \n",
       "146  Afghan Army chief General Wali Mohammad Ahmadz...     world  \n",
       "\n",
       "[147 rows x 3 columns]"
      ]
     },
     "execution_count": 15,
     "metadata": {},
     "output_type": "execute_result"
    }
   ],
   "source": [
    "news_df"
   ]
  },
  {
   "cell_type": "markdown",
   "id": "b9806a0c-8df1-4843-bfa2-e67bcd34403e",
   "metadata": {},
   "source": [
    "### 7.) Make another dataframe for the Codeup blog posts. Name the dataframe codeup_df."
   ]
  },
  {
   "cell_type": "code",
   "execution_count": 16,
   "id": "3db5f802-4e42-4011-909d-b0a6c7b5012a",
   "metadata": {},
   "outputs": [],
   "source": [
    "urls = ['https://codeup.com/codeups-data-science-career-accelerator-is-here/', \n",
    "        'https://codeup.com/data-science-myths/', \n",
    "        'https://codeup.com/data-science-vs-data-analytics-whats-the-difference/', \n",
    "        'https://codeup.com/10-tips-to-crush-it-at-the-sa-tech-job-fair/', \n",
    "        'https://codeup.com/competitor-bootcamps-are-closing-is-the-model-in-danger/']"
   ]
  },
  {
   "cell_type": "code",
   "execution_count": 17,
   "id": "4c1f2200-9aec-4bd4-9bcf-0fa62c617afd",
   "metadata": {},
   "outputs": [],
   "source": [
    "codeup_df = pd.DataFrame(acquire.get_blog_articles(urls))"
   ]
  },
  {
   "cell_type": "code",
   "execution_count": 18,
   "id": "9b5410f3-5661-47d0-b329-f832ffa623a0",
   "metadata": {},
   "outputs": [
    {
     "data": {
      "text/html": [
       "<div>\n",
       "<style scoped>\n",
       "    .dataframe tbody tr th:only-of-type {\n",
       "        vertical-align: middle;\n",
       "    }\n",
       "\n",
       "    .dataframe tbody tr th {\n",
       "        vertical-align: top;\n",
       "    }\n",
       "\n",
       "    .dataframe thead th {\n",
       "        text-align: right;\n",
       "    }\n",
       "</style>\n",
       "<table border=\"1\" class=\"dataframe\">\n",
       "  <thead>\n",
       "    <tr style=\"text-align: right;\">\n",
       "      <th></th>\n",
       "      <th>title</th>\n",
       "      <th>content</th>\n",
       "    </tr>\n",
       "  </thead>\n",
       "  <tbody>\n",
       "    <tr>\n",
       "      <th>0</th>\n",
       "      <td>Codeup’s Data Science Career Accelerator is Here!</td>\n",
       "      <td>The rumors are true! The time has arrived. Cod...</td>\n",
       "    </tr>\n",
       "    <tr>\n",
       "      <th>1</th>\n",
       "      <td>Data Science Myths</td>\n",
       "      <td>By Dimitri Antoniou and Maggie Giust\\nData Sci...</td>\n",
       "    </tr>\n",
       "    <tr>\n",
       "      <th>2</th>\n",
       "      <td>Data Science VS Data Analytics: What’s The Dif...</td>\n",
       "      <td>By Dimitri Antoniou\\nA week ago, Codeup launch...</td>\n",
       "    </tr>\n",
       "    <tr>\n",
       "      <th>3</th>\n",
       "      <td>10 Tips to Crush It at the SA Tech Job Fair</td>\n",
       "      <td>SA Tech Job Fair\\nThe third bi-annual San Anto...</td>\n",
       "    </tr>\n",
       "    <tr>\n",
       "      <th>4</th>\n",
       "      <td>Competitor Bootcamps Are Closing. Is the Model...</td>\n",
       "      <td>Competitor Bootcamps Are Closing. Is the Model...</td>\n",
       "    </tr>\n",
       "  </tbody>\n",
       "</table>\n",
       "</div>"
      ],
      "text/plain": [
       "                                               title  \\\n",
       "0  Codeup’s Data Science Career Accelerator is Here!   \n",
       "1                                 Data Science Myths   \n",
       "2  Data Science VS Data Analytics: What’s The Dif...   \n",
       "3        10 Tips to Crush It at the SA Tech Job Fair   \n",
       "4  Competitor Bootcamps Are Closing. Is the Model...   \n",
       "\n",
       "                                             content  \n",
       "0  The rumors are true! The time has arrived. Cod...  \n",
       "1  By Dimitri Antoniou and Maggie Giust\\nData Sci...  \n",
       "2  By Dimitri Antoniou\\nA week ago, Codeup launch...  \n",
       "3  SA Tech Job Fair\\nThe third bi-annual San Anto...  \n",
       "4  Competitor Bootcamps Are Closing. Is the Model...  "
      ]
     },
     "execution_count": 18,
     "metadata": {},
     "output_type": "execute_result"
    }
   ],
   "source": [
    "codeup_df"
   ]
  },
  {
   "cell_type": "markdown",
   "id": "34352e4d-8f39-4b94-9177-652e700d8926",
   "metadata": {},
   "source": [
    "### 8.) For each dataframe, produce the following columns:\n",
    " - title to hold the title\n",
    " - original to hold the original article/post content\n",
    " - clean to hold the normalized and tokenized original with the stopwords removed.\n",
    " - stemmed to hold the stemmed version of the cleaned data.\n",
    " - lemmatized to hold the lemmatized version of the cleaned data."
   ]
  },
  {
   "cell_type": "code",
   "execution_count": 30,
   "id": "35976d8b-68a9-4c5d-8b6f-fa4c7e5a3a81",
   "metadata": {},
   "outputs": [],
   "source": [
    "def prep_article_data(df, content, extra_words=[], exclude_words=[]):\n",
    "    df['title'] = df.title\n",
    "    df['original']= df.content   \n",
    "    df['clean'] = df[content].apply(basic_clean)\\\n",
    "                    .apply(tokenize)\\\n",
    "                    .apply(remove_stopwords)\n",
    "    \n",
    "    df['stemmed']= df[content].apply(basic_clean)\\\n",
    "                    .apply(tokenize)\\\n",
    "                    .apply(stem)\\\n",
    "                    .apply(remove_stopwords,extra_words = extra_words, exclude_words = exclude_words)\n",
    "    \n",
    "    df['lemmatized'] = df[content].apply(basic_clean)\\\n",
    "                    .apply(tokenize)\\\n",
    "                    .apply(lemmatize)\\\n",
    "                    .apply(remove_stopwords,extra_words = extra_words, exclude_words = exclude_words)\n",
    "    return df[['title', 'original','clean','stemmed','lemmatized']] "
   ]
  },
  {
   "cell_type": "code",
   "execution_count": 31,
   "id": "cddef63f-c216-4419-8510-b28c7f73efbc",
   "metadata": {},
   "outputs": [
    {
     "data": {
      "text/html": [
       "<div>\n",
       "<style scoped>\n",
       "    .dataframe tbody tr th:only-of-type {\n",
       "        vertical-align: middle;\n",
       "    }\n",
       "\n",
       "    .dataframe tbody tr th {\n",
       "        vertical-align: top;\n",
       "    }\n",
       "\n",
       "    .dataframe thead th {\n",
       "        text-align: right;\n",
       "    }\n",
       "</style>\n",
       "<table border=\"1\" class=\"dataframe\">\n",
       "  <thead>\n",
       "    <tr style=\"text-align: right;\">\n",
       "      <th></th>\n",
       "      <th>title</th>\n",
       "      <th>original</th>\n",
       "      <th>clean</th>\n",
       "      <th>stemmed</th>\n",
       "      <th>lemmatized</th>\n",
       "    </tr>\n",
       "  </thead>\n",
       "  <tbody>\n",
       "    <tr>\n",
       "      <th>0</th>\n",
       "      <td>China's ex-teacher turned billionaire no more ...</td>\n",
       "      <td>China's Larry Chen, a former teacher who becam...</td>\n",
       "      <td>china ' larry chen former teacher became billi...</td>\n",
       "      <td>china ' larri chen former teacher becam billio...</td>\n",
       "      <td>china ' larry chen former teacher became billi...</td>\n",
       "    </tr>\n",
       "    <tr>\n",
       "      <th>1</th>\n",
       "      <td>Amazon job posting fuels speculations about pl...</td>\n",
       "      <td>A new job posting by Amazon has fuelled specul...</td>\n",
       "      <td>new job posting amazon fuelled speculations ec...</td>\n",
       "      <td>new job post amazon ha fuell specul ecommerc m...</td>\n",
       "      <td>new job posting amazon ha fuelled speculation ...</td>\n",
       "    </tr>\n",
       "    <tr>\n",
       "      <th>2</th>\n",
       "      <td>Musk takes a jibe at rival car companies, says...</td>\n",
       "      <td>Tesla CEO and the world's second-richest perso...</td>\n",
       "      <td>tesla ceo world ' secondrichest person elon mu...</td>\n",
       "      <td>tesla ceo world ' secondrichest person elon mu...</td>\n",
       "      <td>tesla ceo world ' secondrichest person elon mu...</td>\n",
       "    </tr>\n",
       "    <tr>\n",
       "      <th>3</th>\n",
       "      <td>Govt paid Infosys ₹164.5 crore for new Income ...</td>\n",
       "      <td>The government paid ₹164.5 crore to Infosys to...</td>\n",
       "      <td>government paid 1645 crore infosys build new i...</td>\n",
       "      <td>govern paid 1645 crore infosi build new incom ...</td>\n",
       "      <td>government paid 1645 crore infosys build new i...</td>\n",
       "    </tr>\n",
       "    <tr>\n",
       "      <th>4</th>\n",
       "      <td>Mahua Moitra writes to FM to look into 'over-i...</td>\n",
       "      <td>Lok Sabha MP Mahua Moitra has shared a letter ...</td>\n",
       "      <td>lok sabha mp mahua moitra shared letter wrote ...</td>\n",
       "      <td>lok sabha mp mahua moitra ha share letter wrot...</td>\n",
       "      <td>lok sabha mp mahua moitra ha shared letter wro...</td>\n",
       "    </tr>\n",
       "    <tr>\n",
       "      <th>...</th>\n",
       "      <td>...</td>\n",
       "      <td>...</td>\n",
       "      <td>...</td>\n",
       "      <td>...</td>\n",
       "      <td>...</td>\n",
       "    </tr>\n",
       "    <tr>\n",
       "      <th>142</th>\n",
       "      <td>Ugandan govt spends $30 mn on cars for lawmake...</td>\n",
       "      <td>The Ugandan government was criticised after it...</td>\n",
       "      <td>ugandan government criticised spent 302 millio...</td>\n",
       "      <td>ugandan govern wa criticis spent 302 million t...</td>\n",
       "      <td>ugandan government wa criticised spent 302 mil...</td>\n",
       "    </tr>\n",
       "    <tr>\n",
       "      <th>143</th>\n",
       "      <td>Equatorial Guinea to close UK embassy over san...</td>\n",
       "      <td>Equatorial Guinea's Foreign Minister said that...</td>\n",
       "      <td>equatorial guinea ' foreign minister said coun...</td>\n",
       "      <td>equatori guinea ' foreign minist said countri ...</td>\n",
       "      <td>equatorial guinea ' foreign minister said coun...</td>\n",
       "    </tr>\n",
       "    <tr>\n",
       "      <th>144</th>\n",
       "      <td>Lebanese lawmakers pick billionaire Najib Mika...</td>\n",
       "      <td>Lebanese lawmakers during parliamentary consul...</td>\n",
       "      <td>lebanese lawmakers parliamentary consultations...</td>\n",
       "      <td>lebanes lawmak dure parliamentari consult mond...</td>\n",
       "      <td>lebanese lawmaker parliamentary consultation m...</td>\n",
       "    </tr>\n",
       "    <tr>\n",
       "      <th>145</th>\n",
       "      <td>Man accused of trying to kill Mali's interim P...</td>\n",
       "      <td>A man accused of trying to kill Mali's interim...</td>\n",
       "      <td>man accused trying kill mali ' interim preside...</td>\n",
       "      <td>man accus tri kill mali ' interim presid assim...</td>\n",
       "      <td>man accused trying kill mali ' interim preside...</td>\n",
       "    </tr>\n",
       "    <tr>\n",
       "      <th>146</th>\n",
       "      <td>Afghan Army chief postpones India visit amid T...</td>\n",
       "      <td>Afghan Army chief General Wali Mohammad Ahmadz...</td>\n",
       "      <td>afghan army chief general wali mohammad ahmadz...</td>\n",
       "      <td>afghan armi chief gener wali mohammad ahmadzai...</td>\n",
       "      <td>afghan army chief general wali mohammad ahmadz...</td>\n",
       "    </tr>\n",
       "  </tbody>\n",
       "</table>\n",
       "<p>147 rows × 5 columns</p>\n",
       "</div>"
      ],
      "text/plain": [
       "                                                 title  \\\n",
       "0    China's ex-teacher turned billionaire no more ...   \n",
       "1    Amazon job posting fuels speculations about pl...   \n",
       "2    Musk takes a jibe at rival car companies, says...   \n",
       "3    Govt paid Infosys ₹164.5 crore for new Income ...   \n",
       "4    Mahua Moitra writes to FM to look into 'over-i...   \n",
       "..                                                 ...   \n",
       "142  Ugandan govt spends $30 mn on cars for lawmake...   \n",
       "143  Equatorial Guinea to close UK embassy over san...   \n",
       "144  Lebanese lawmakers pick billionaire Najib Mika...   \n",
       "145  Man accused of trying to kill Mali's interim P...   \n",
       "146  Afghan Army chief postpones India visit amid T...   \n",
       "\n",
       "                                              original  \\\n",
       "0    China's Larry Chen, a former teacher who becam...   \n",
       "1    A new job posting by Amazon has fuelled specul...   \n",
       "2    Tesla CEO and the world's second-richest perso...   \n",
       "3    The government paid ₹164.5 crore to Infosys to...   \n",
       "4    Lok Sabha MP Mahua Moitra has shared a letter ...   \n",
       "..                                                 ...   \n",
       "142  The Ugandan government was criticised after it...   \n",
       "143  Equatorial Guinea's Foreign Minister said that...   \n",
       "144  Lebanese lawmakers during parliamentary consul...   \n",
       "145  A man accused of trying to kill Mali's interim...   \n",
       "146  Afghan Army chief General Wali Mohammad Ahmadz...   \n",
       "\n",
       "                                                 clean  \\\n",
       "0    china ' larry chen former teacher became billi...   \n",
       "1    new job posting amazon fuelled speculations ec...   \n",
       "2    tesla ceo world ' secondrichest person elon mu...   \n",
       "3    government paid 1645 crore infosys build new i...   \n",
       "4    lok sabha mp mahua moitra shared letter wrote ...   \n",
       "..                                                 ...   \n",
       "142  ugandan government criticised spent 302 millio...   \n",
       "143  equatorial guinea ' foreign minister said coun...   \n",
       "144  lebanese lawmakers parliamentary consultations...   \n",
       "145  man accused trying kill mali ' interim preside...   \n",
       "146  afghan army chief general wali mohammad ahmadz...   \n",
       "\n",
       "                                               stemmed  \\\n",
       "0    china ' larri chen former teacher becam billio...   \n",
       "1    new job post amazon ha fuell specul ecommerc m...   \n",
       "2    tesla ceo world ' secondrichest person elon mu...   \n",
       "3    govern paid 1645 crore infosi build new incom ...   \n",
       "4    lok sabha mp mahua moitra ha share letter wrot...   \n",
       "..                                                 ...   \n",
       "142  ugandan govern wa criticis spent 302 million t...   \n",
       "143  equatori guinea ' foreign minist said countri ...   \n",
       "144  lebanes lawmak dure parliamentari consult mond...   \n",
       "145  man accus tri kill mali ' interim presid assim...   \n",
       "146  afghan armi chief gener wali mohammad ahmadzai...   \n",
       "\n",
       "                                            lemmatized  \n",
       "0    china ' larry chen former teacher became billi...  \n",
       "1    new job posting amazon ha fuelled speculation ...  \n",
       "2    tesla ceo world ' secondrichest person elon mu...  \n",
       "3    government paid 1645 crore infosys build new i...  \n",
       "4    lok sabha mp mahua moitra ha shared letter wro...  \n",
       "..                                                 ...  \n",
       "142  ugandan government wa criticised spent 302 mil...  \n",
       "143  equatorial guinea ' foreign minister said coun...  \n",
       "144  lebanese lawmaker parliamentary consultation m...  \n",
       "145  man accused trying kill mali ' interim preside...  \n",
       "146  afghan army chief general wali mohammad ahmadz...  \n",
       "\n",
       "[147 rows x 5 columns]"
      ]
     },
     "execution_count": 31,
     "metadata": {},
     "output_type": "execute_result"
    }
   ],
   "source": [
    "prep_article_data(news_df, 'content', extra_words=[], exclude_words=[])"
   ]
  },
  {
   "cell_type": "code",
   "execution_count": 32,
   "id": "8484ec9a-1cd4-43ad-896a-a3a4f7607540",
   "metadata": {},
   "outputs": [
    {
     "data": {
      "text/html": [
       "<div>\n",
       "<style scoped>\n",
       "    .dataframe tbody tr th:only-of-type {\n",
       "        vertical-align: middle;\n",
       "    }\n",
       "\n",
       "    .dataframe tbody tr th {\n",
       "        vertical-align: top;\n",
       "    }\n",
       "\n",
       "    .dataframe thead th {\n",
       "        text-align: right;\n",
       "    }\n",
       "</style>\n",
       "<table border=\"1\" class=\"dataframe\">\n",
       "  <thead>\n",
       "    <tr style=\"text-align: right;\">\n",
       "      <th></th>\n",
       "      <th>title</th>\n",
       "      <th>original</th>\n",
       "      <th>clean</th>\n",
       "      <th>stemmed</th>\n",
       "      <th>lemmatized</th>\n",
       "    </tr>\n",
       "  </thead>\n",
       "  <tbody>\n",
       "    <tr>\n",
       "      <th>0</th>\n",
       "      <td>Codeup’s Data Science Career Accelerator is Here!</td>\n",
       "      <td>The rumors are true! The time has arrived. Cod...</td>\n",
       "      <td>rumors true time arrived codeup officially ope...</td>\n",
       "      <td>rumor true time ha arriv codeup ha offici open...</td>\n",
       "      <td>rumor true time ha arrived codeup ha officiall...</td>\n",
       "    </tr>\n",
       "    <tr>\n",
       "      <th>1</th>\n",
       "      <td>Data Science Myths</td>\n",
       "      <td>By Dimitri Antoniou and Maggie Giust\\nData Sci...</td>\n",
       "      <td>dimitri antoniou maggie giust data science big...</td>\n",
       "      <td>dimitri antoni maggi giust data scienc big dat...</td>\n",
       "      <td>dimitri antoniou maggie giust data science big...</td>\n",
       "    </tr>\n",
       "    <tr>\n",
       "      <th>2</th>\n",
       "      <td>Data Science VS Data Analytics: What’s The Dif...</td>\n",
       "      <td>By Dimitri Antoniou\\nA week ago, Codeup launch...</td>\n",
       "      <td>dimitri antoniou week ago codeup launched imme...</td>\n",
       "      <td>dimitri antoni week ago codeup launch immers d...</td>\n",
       "      <td>dimitri antoniou week ago codeup launched imme...</td>\n",
       "    </tr>\n",
       "    <tr>\n",
       "      <th>3</th>\n",
       "      <td>10 Tips to Crush It at the SA Tech Job Fair</td>\n",
       "      <td>SA Tech Job Fair\\nThe third bi-annual San Anto...</td>\n",
       "      <td>sa tech job fair third biannual san antonio te...</td>\n",
       "      <td>sa tech job fair third biannual san antonio te...</td>\n",
       "      <td>sa tech job fair third biannual san antonio te...</td>\n",
       "    </tr>\n",
       "    <tr>\n",
       "      <th>4</th>\n",
       "      <td>Competitor Bootcamps Are Closing. Is the Model...</td>\n",
       "      <td>Competitor Bootcamps Are Closing. Is the Model...</td>\n",
       "      <td>competitor bootcamps closing model danger prog...</td>\n",
       "      <td>competitor bootcamp close model danger program...</td>\n",
       "      <td>competitor bootcamps closing model danger prog...</td>\n",
       "    </tr>\n",
       "  </tbody>\n",
       "</table>\n",
       "</div>"
      ],
      "text/plain": [
       "                                               title  \\\n",
       "0  Codeup’s Data Science Career Accelerator is Here!   \n",
       "1                                 Data Science Myths   \n",
       "2  Data Science VS Data Analytics: What’s The Dif...   \n",
       "3        10 Tips to Crush It at the SA Tech Job Fair   \n",
       "4  Competitor Bootcamps Are Closing. Is the Model...   \n",
       "\n",
       "                                            original  \\\n",
       "0  The rumors are true! The time has arrived. Cod...   \n",
       "1  By Dimitri Antoniou and Maggie Giust\\nData Sci...   \n",
       "2  By Dimitri Antoniou\\nA week ago, Codeup launch...   \n",
       "3  SA Tech Job Fair\\nThe third bi-annual San Anto...   \n",
       "4  Competitor Bootcamps Are Closing. Is the Model...   \n",
       "\n",
       "                                               clean  \\\n",
       "0  rumors true time arrived codeup officially ope...   \n",
       "1  dimitri antoniou maggie giust data science big...   \n",
       "2  dimitri antoniou week ago codeup launched imme...   \n",
       "3  sa tech job fair third biannual san antonio te...   \n",
       "4  competitor bootcamps closing model danger prog...   \n",
       "\n",
       "                                             stemmed  \\\n",
       "0  rumor true time ha arriv codeup ha offici open...   \n",
       "1  dimitri antoni maggi giust data scienc big dat...   \n",
       "2  dimitri antoni week ago codeup launch immers d...   \n",
       "3  sa tech job fair third biannual san antonio te...   \n",
       "4  competitor bootcamp close model danger program...   \n",
       "\n",
       "                                          lemmatized  \n",
       "0  rumor true time ha arrived codeup ha officiall...  \n",
       "1  dimitri antoniou maggie giust data science big...  \n",
       "2  dimitri antoniou week ago codeup launched imme...  \n",
       "3  sa tech job fair third biannual san antonio te...  \n",
       "4  competitor bootcamps closing model danger prog...  "
      ]
     },
     "execution_count": 32,
     "metadata": {},
     "output_type": "execute_result"
    }
   ],
   "source": [
    "prep_article_data(codeup_df, 'content', extra_words=[], exclude_words=[])"
   ]
  },
  {
   "cell_type": "markdown",
   "id": "9aa9fdf5-77eb-4e6d-b9c5-34c01924e43c",
   "metadata": {},
   "source": [
    "### 9.) Ask yourself:\n",
    " - If your corpus is 493KB, would you prefer to use stemmed or lemmatized text?\n",
    "    - I would lemmatize it so that the words that are returned are real words. The dataset is small, so I don't see a waste of resources doing this method over stemming.\n",
    "<br>\n",
    "   \n",
    " - If your corpus is 25MB, would you prefer to use stemmed or lemmatized text?\n",
    "    - I would still lemmatize it...25MB isn't too bad of a size. It could be worse.\n",
    " - If your corpus is 200TB of text and you're charged by the megabyte for your hosted computational resources, would you prefer to use stemmed or lemmatized text?\n",
    "    - Stemmed, I'll work with what I get before I have to pay "
   ]
  },
  {
   "cell_type": "code",
   "execution_count": null,
   "id": "abb2344b-acdf-430a-bb81-83ccbe29bc95",
   "metadata": {},
   "outputs": [],
   "source": []
  }
 ],
 "metadata": {
  "kernelspec": {
   "display_name": "Python 3",
   "language": "python",
   "name": "python3"
  },
  "language_info": {
   "codemirror_mode": {
    "name": "ipython",
    "version": 3
   },
   "file_extension": ".py",
   "mimetype": "text/x-python",
   "name": "python",
   "nbconvert_exporter": "python",
   "pygments_lexer": "ipython3",
   "version": "3.8.5"
  }
 },
 "nbformat": 4,
 "nbformat_minor": 5
}
