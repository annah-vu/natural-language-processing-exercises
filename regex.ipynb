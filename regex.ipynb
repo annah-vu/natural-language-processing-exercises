{
 "cells": [
  {
   "cell_type": "code",
   "execution_count": 56,
   "id": "95d125c8-15f2-4ca2-96a6-02b8e2fe0612",
   "metadata": {},
   "outputs": [],
   "source": [
    "import re\n",
    "import pandas as pd"
   ]
  },
  {
   "cell_type": "markdown",
   "id": "26e88bdc-f14b-4364-a5f7-1de4412cee4e",
   "metadata": {},
   "source": [
    "### 1.) Write a function named is_vowel. It should accept a string as input and use a regular expression to determine if the passed string is a vowel. While not explicity mentioned in the lesson, you can treat the result of re.search as a boolean value that indicates whether or not the regular expression matches the given string."
   ]
  },
  {
   "cell_type": "code",
   "execution_count": 14,
   "id": "6f889710-199b-4886-9a35-2fdbe478e605",
   "metadata": {},
   "outputs": [],
   "source": [
    "def is_vowel(subject):\n",
    "    '''\n",
    "    takes the first letter of a string and returns whether it is a vowel or not\n",
    "    '''\n",
    "    regexp = r'^[AEIOUaeiou]'\n",
    "    if re.match(regexp,subject):\n",
    "        print('indeed a vowel')\n",
    "    else:\n",
    "        print('that\\'s a consonant')"
   ]
  },
  {
   "cell_type": "code",
   "execution_count": 15,
   "id": "5b7b9f58-8aa1-4f1e-95d5-e9d39009da19",
   "metadata": {},
   "outputs": [
    {
     "name": "stdout",
     "output_type": "stream",
     "text": [
      "indeed a vowel\n"
     ]
    }
   ],
   "source": [
    "is_vowel('a')"
   ]
  },
  {
   "cell_type": "code",
   "execution_count": 16,
   "id": "ff854cf7-cb92-46e7-8cbc-ae9afa6fbc58",
   "metadata": {},
   "outputs": [
    {
     "name": "stdout",
     "output_type": "stream",
     "text": [
      "that's a consonant\n"
     ]
    }
   ],
   "source": [
    "is_vowel('b')"
   ]
  },
  {
   "cell_type": "markdown",
   "id": "fee2701a-6e6e-40b1-a623-29e25947cb84",
   "metadata": {},
   "source": [
    "### 2.) Write a function named is_valid_username that accepts a string as input. A valid username starts with a lowercase letter, and only consists of lowercase letters, numbers, or the _ character. It should also be no longer than 32 characters. The function should return either True or False depending on whether the passed string is a valid username."
   ]
  },
  {
   "cell_type": "code",
   "execution_count": null,
   "id": "5f871341-cc79-4e56-8f2e-ac29a11e67cb",
   "metadata": {},
   "outputs": [],
   "source": [
    "#lowercase a-z, numbers and underscores\n",
    "#no longer than 32 characters"
   ]
  },
  {
   "cell_type": "code",
   "execution_count": 95,
   "id": "07f3b0be-f8a5-45d8-86cd-21ed554dd5fd",
   "metadata": {},
   "outputs": [],
   "source": [
    "def is_valid_username(subject):\n",
    "    regexp = r'^[a-z]\\w{1,31}$'\n",
    "    if re.match(regexp,subject):\n",
    "        return True\n",
    "    else:\n",
    "        return False"
   ]
  },
  {
   "cell_type": "code",
   "execution_count": 96,
   "id": "ecdb4ba8-f80f-407c-a32a-2a25584cb1f4",
   "metadata": {},
   "outputs": [
    {
     "name": "stdout",
     "output_type": "stream",
     "text": [
      "False\n",
      "True\n",
      "False\n",
      "False\n"
     ]
    }
   ],
   "source": [
    "print(is_valid_username('aaaaaaaaaaaaaaaaaaaaaaaaaaaaaaaaa'))\n",
    "print(is_valid_username('codeup'))\n",
    "print(is_valid_username('Codeup'))\n",
    "print(is_valid_username('1codeup'))"
   ]
  },
  {
   "cell_type": "markdown",
   "id": "c1c38e8e-4565-45d4-b56e-997aec424f0e",
   "metadata": {},
   "source": [
    "### 3.)Write a regular expression to capture phone numbers. It should match all of the following:"
   ]
  },
  {
   "cell_type": "raw",
   "id": "b4da1af4-66c9-4cbc-a361-55b2458e4ad3",
   "metadata": {},
   "source": [
    "(210) 867 5309\n",
    "+1 210.867.5309\n",
    "867-5309\n",
    "210-867-5309"
   ]
  },
  {
   "cell_type": "code",
   "execution_count": 89,
   "id": "21c2e068-3854-416b-b31f-03cd73f2b766",
   "metadata": {},
   "outputs": [
    {
     "data": {
      "text/plain": [
       "<re.Match object; span=(0, 12), match='210.867.5309'>"
      ]
     },
     "execution_count": 89,
     "metadata": {},
     "output_type": "execute_result"
    }
   ],
   "source": [
    "regexp=r'(\\d)?\\D*(\\d{3})?\\D*\\d{3}\\D*\\d{4}$'\n",
    "regexp=r'(\\d)?\\D*(\\d{3})?\\D*\\d{3}\\D*\\d{4}$'\n",
    "subject = '210.867.5309'\n",
    "re.match(regexp, subject)"
   ]
  },
  {
   "cell_type": "code",
   "execution_count": null,
   "id": "eaf6ac73-a2a1-4431-8c77-241f37e7a32b",
   "metadata": {},
   "outputs": [],
   "source": [
    "#optional random character in front\n",
    "#3 digits (optional)\n",
    "#random symbol\n",
    "#3 more numbers\n",
    "#random symbol\n",
    "#4 numbers, nothing after"
   ]
  },
  {
   "cell_type": "code",
   "execution_count": 51,
   "id": "5800d1b4-a4af-4800-b4de-4b40793f9d81",
   "metadata": {},
   "outputs": [],
   "source": [
    "def phone_number(subject):\n",
    "    regexp=r'.*?\\d{3}?.*?\\d{3}.*\\d{4}$'\n",
    "    if re.match(regexp, subject):\n",
    "        return True\n",
    "    else:\n",
    "        return False"
   ]
  },
  {
   "cell_type": "code",
   "execution_count": 52,
   "id": "9c2c1087-5c32-423c-84c0-ea7e2f4c57eb",
   "metadata": {},
   "outputs": [
    {
     "data": {
      "text/plain": [
       "True"
      ]
     },
     "execution_count": 52,
     "metadata": {},
     "output_type": "execute_result"
    }
   ],
   "source": [
    "phone_number('(210) 867 5309')"
   ]
  },
  {
   "cell_type": "code",
   "execution_count": 53,
   "id": "23d1d04f-7e86-4831-ac92-2b2154f62544",
   "metadata": {},
   "outputs": [
    {
     "data": {
      "text/plain": [
       "False"
      ]
     },
     "execution_count": 53,
     "metadata": {},
     "output_type": "execute_result"
    }
   ],
   "source": [
    "phone_number('867-5309') #what the "
   ]
  },
  {
   "cell_type": "code",
   "execution_count": 64,
   "id": "a77ce0b2-0c79-4cc3-99d1-83ef00ac49d3",
   "metadata": {},
   "outputs": [
    {
     "data": {
      "text/html": [
       "<div>\n",
       "<style scoped>\n",
       "    .dataframe tbody tr th:only-of-type {\n",
       "        vertical-align: middle;\n",
       "    }\n",
       "\n",
       "    .dataframe tbody tr th {\n",
       "        vertical-align: top;\n",
       "    }\n",
       "\n",
       "    .dataframe thead th {\n",
       "        text-align: right;\n",
       "    }\n",
       "</style>\n",
       "<table border=\"1\" class=\"dataframe\">\n",
       "  <thead>\n",
       "    <tr style=\"text-align: right;\">\n",
       "      <th></th>\n",
       "      <th>phone_num</th>\n",
       "    </tr>\n",
       "  </thead>\n",
       "  <tbody>\n",
       "    <tr>\n",
       "      <th>0</th>\n",
       "      <td>(210) 867 5309</td>\n",
       "    </tr>\n",
       "    <tr>\n",
       "      <th>1</th>\n",
       "      <td>+1 210.867.5309</td>\n",
       "    </tr>\n",
       "    <tr>\n",
       "      <th>2</th>\n",
       "      <td>867-5309</td>\n",
       "    </tr>\n",
       "    <tr>\n",
       "      <th>3</th>\n",
       "      <td>210-867-5309</td>\n",
       "    </tr>\n",
       "    <tr>\n",
       "      <th>4</th>\n",
       "      <td>2108675309</td>\n",
       "    </tr>\n",
       "  </tbody>\n",
       "</table>\n",
       "</div>"
      ],
      "text/plain": [
       "         phone_num\n",
       "0   (210) 867 5309\n",
       "1  +1 210.867.5309\n",
       "2         867-5309\n",
       "3     210-867-5309\n",
       "4       2108675309"
      ]
     },
     "execution_count": 64,
     "metadata": {},
     "output_type": "execute_result"
    }
   ],
   "source": [
    "df = pd.DataFrame()\n",
    "df['phone_num'] = ['(210) 867 5309', '+1 210.867.5309', '867-5309', '210-867-5309', '2108675309']\n",
    "df"
   ]
  },
  {
   "cell_type": "markdown",
   "id": "82003930-6cfb-4442-8cc6-5146092c6e99",
   "metadata": {},
   "source": [
    "### 4.) Use regular expressions to convert the dates below to the standardized year-month-day format."
   ]
  },
  {
   "cell_type": "raw",
   "id": "d4edb1e4-cea2-4da2-80a4-daab4aec5748",
   "metadata": {},
   "source": [
    "02/04/19\n",
    "02/05/19\n",
    "02/06/19\n",
    "02/07/19\n",
    "02/08/19\n",
    "02/09/19\n",
    "02/10/19"
   ]
  },
  {
   "cell_type": "code",
   "execution_count": 66,
   "id": "bb44d827-bc53-49fc-a2cc-80ba2b6fdbc0",
   "metadata": {},
   "outputs": [],
   "source": [
    "dates = pd.Series(['02/04/19','02/05/19','02/06/19','02/07/19','02/08/19','02/09/19','02/10/19'])"
   ]
  },
  {
   "cell_type": "code",
   "execution_count": 67,
   "id": "2886e262-ef34-481e-8ea1-0edd41ab6c52",
   "metadata": {},
   "outputs": [
    {
     "data": {
      "text/plain": [
       "['2019-02-04',\n",
       " '2019-02-05',\n",
       " '2019-02-06',\n",
       " '2019-02-07',\n",
       " '2019-02-08',\n",
       " '2019-02-09',\n",
       " '2019-02-10']"
      ]
     },
     "execution_count": 67,
     "metadata": {},
     "output_type": "execute_result"
    }
   ],
   "source": [
    "date_reg = r'(\\d+)/(\\d+)/(\\d+)'\n",
    "[re.sub(date_reg, r'20\\3-\\1-\\2',date) for date in dates]"
   ]
  },
  {
   "cell_type": "markdown",
   "id": "701230ab-d3d6-48ed-b850-2f4f05feb4fc",
   "metadata": {},
   "source": [
    "### 5.) Write a regex to extract the various parts of these logfile lines:"
   ]
  },
  {
   "cell_type": "markdown",
   "id": "eb58e859-e8ce-4091-954e-ace8f7ef9c0a",
   "metadata": {},
   "source": [
    "GET /api/v1/sales?page=86 [16/Apr/2019:193452+0000] HTTP/1.1 {200} 510348 \"python-requests/2.21.0\" 97.105.19.58\n",
    "\n",
    "\n",
    "POST /users_accounts/file-upload [16/Apr/2019:193452+0000] HTTP/1.1 {201} 42 \"User-Agent: Mozilla/5.0 (X11; Fedora; Fedora; Linux x86_64) AppleWebKit/537.36 (KHTML, like Gecko) Chrome/73.0.3683.86 Safari/537.36\" 97.105.19.58\n",
    "\n",
    "\n",
    "GET /api/v1/items?page=3 [16/Apr/2019:193453+0000] HTTP/1.1 {429} 3561 \"python-requests/2.21.0\" 97.105.19.58"
   ]
  },
  {
   "cell_type": "code",
   "execution_count": 93,
   "id": "b35c1161-2ad4-436d-a56c-e6616eb07adf",
   "metadata": {},
   "outputs": [],
   "source": [
    "lines = \"\"\"\n",
    "GET /api/v1/sales?page=86 [16/Apr/2019:193452+0000] HTTP/1.1 {200} 510348 \"python-requests/2.21.0\" 97.105.19.58\n",
    "POST /users_accounts/file-upload [16/Apr/2019:193452+0000] HTTP/1.1 {201} 42 \"User-Agent: Mozilla/5.0 (X11; Fedora; Fedora; Linux x86_64) AppleWebKit/537.36 (KHTML, like Gecko) Chrome/73.0.3683.86 Safari/537.36\" 97.105.19.58\n",
    "GET /api/v1/items?page=3 [16/Apr/2019:193453+0000] HTTP/1.1 {429} 3561 \"python-requests/2.21.0\" 97.105.19.58\n",
    "\"\"\""
   ]
  },
  {
   "cell_type": "raw",
   "id": "169e9f57-dc20-49c4-a41e-d84aeab2488f",
   "metadata": {},
   "source": [
    "request = GET/POST\n",
    "path = /api/v1/sales?page=86\n",
    "timestamp = [16/Apr/2019:193452+0000]\n",
    "version =  HTTP/1.1 \n",
    "status code = {200}\n",
    "numbers = 510348\n",
    "user_agent = \"python-requests/2.21.0\"\n",
    "ip = 97.105.19.58"
   ]
  },
  {
   "cell_type": "code",
   "execution_count": 91,
   "id": "17b69c15-8e24-47bf-b2ae-f45a8a68772d",
   "metadata": {},
   "outputs": [],
   "source": [
    "regexp = r'''^(?P<request>GET|POST)\\s(?P<path>[/\\w\\-\\?=]+)\\s\\[(?P<timestamp>.+)\\]\\s\n",
    "            (?P<version>HTTP/\\d+\\.\\d+)\\s\\{(?P<status_code>\\d+)\\}\\s(?P<bytes_out>\\d+)\\s\"(?P<user_agent>.+)\"\\s(?P<ip>\\d+\\.\\d+\\.\\d+\\.\\d+)$'''"
   ]
  },
  {
   "cell_type": "code",
   "execution_count": 94,
   "id": "37d616b4-aaf7-4214-b740-2a19e88b444c",
   "metadata": {},
   "outputs": [
    {
     "data": {
      "text/html": [
       "<div>\n",
       "<style scoped>\n",
       "    .dataframe tbody tr th:only-of-type {\n",
       "        vertical-align: middle;\n",
       "    }\n",
       "\n",
       "    .dataframe tbody tr th {\n",
       "        vertical-align: top;\n",
       "    }\n",
       "\n",
       "    .dataframe thead th {\n",
       "        text-align: right;\n",
       "    }\n",
       "</style>\n",
       "<table border=\"1\" class=\"dataframe\">\n",
       "  <thead>\n",
       "    <tr style=\"text-align: right;\">\n",
       "      <th></th>\n",
       "      <th>line</th>\n",
       "      <th>request</th>\n",
       "      <th>path</th>\n",
       "      <th>timestamp</th>\n",
       "      <th>version</th>\n",
       "      <th>status_code</th>\n",
       "      <th>bytes_out</th>\n",
       "      <th>user_agent</th>\n",
       "      <th>ip</th>\n",
       "    </tr>\n",
       "  </thead>\n",
       "  <tbody>\n",
       "    <tr>\n",
       "      <th>0</th>\n",
       "      <td>GET /api/v1/sales?page=86 [16/Apr/2019:193452+...</td>\n",
       "      <td>GET</td>\n",
       "      <td>/api/v1/sales?page=86</td>\n",
       "      <td>16/Apr/2019:193452+0000</td>\n",
       "      <td>HTTP/1.1</td>\n",
       "      <td>200</td>\n",
       "      <td>510348</td>\n",
       "      <td>python-requests/2.21.0</td>\n",
       "      <td>97.105.19.58</td>\n",
       "    </tr>\n",
       "    <tr>\n",
       "      <th>1</th>\n",
       "      <td>POST /users_accounts/file-upload [16/Apr/2019:...</td>\n",
       "      <td>POST</td>\n",
       "      <td>/users_accounts/file-upload</td>\n",
       "      <td>16/Apr/2019:193452+0000</td>\n",
       "      <td>HTTP/1.1</td>\n",
       "      <td>201</td>\n",
       "      <td>42</td>\n",
       "      <td>User-Agent: Mozilla/5.0 (X11; Fedora; Fedora; ...</td>\n",
       "      <td>97.105.19.58</td>\n",
       "    </tr>\n",
       "    <tr>\n",
       "      <th>2</th>\n",
       "      <td>GET /api/v1/items?page=3 [16/Apr/2019:193453+0...</td>\n",
       "      <td>GET</td>\n",
       "      <td>/api/v1/items?page=3</td>\n",
       "      <td>16/Apr/2019:193453+0000</td>\n",
       "      <td>HTTP/1.1</td>\n",
       "      <td>429</td>\n",
       "      <td>3561</td>\n",
       "      <td>python-requests/2.21.0</td>\n",
       "      <td>97.105.19.58</td>\n",
       "    </tr>\n",
       "  </tbody>\n",
       "</table>\n",
       "</div>"
      ],
      "text/plain": [
       "                                                line request  \\\n",
       "0  GET /api/v1/sales?page=86 [16/Apr/2019:193452+...     GET   \n",
       "1  POST /users_accounts/file-upload [16/Apr/2019:...    POST   \n",
       "2  GET /api/v1/items?page=3 [16/Apr/2019:193453+0...     GET   \n",
       "\n",
       "                          path                timestamp   version status_code  \\\n",
       "0        /api/v1/sales?page=86  16/Apr/2019:193452+0000  HTTP/1.1         200   \n",
       "1  /users_accounts/file-upload  16/Apr/2019:193452+0000  HTTP/1.1         201   \n",
       "2         /api/v1/items?page=3  16/Apr/2019:193453+0000  HTTP/1.1         429   \n",
       "\n",
       "  bytes_out                                         user_agent            ip  \n",
       "0    510348                             python-requests/2.21.0  97.105.19.58  \n",
       "1        42  User-Agent: Mozilla/5.0 (X11; Fedora; Fedora; ...  97.105.19.58  \n",
       "2      3561                             python-requests/2.21.0  97.105.19.58  "
      ]
     },
     "execution_count": 94,
     "metadata": {},
     "output_type": "execute_result"
    }
   ],
   "source": [
    "regex = re.compile(regexp, re.VERBOSE)\n",
    "\n",
    "df = pd.DataFrame()\n",
    "df['line'] = lines.strip().split('\\n')\n",
    "df = pd.concat([df, df.line.str.extract(regex)], axis=1)\n",
    "df"
   ]
  },
  {
   "cell_type": "code",
   "execution_count": null,
   "id": "9b8a62be-c604-4887-95ee-c9dee5a68325",
   "metadata": {},
   "outputs": [],
   "source": []
  }
 ],
 "metadata": {
  "kernelspec": {
   "display_name": "Python 3",
   "language": "python",
   "name": "python3"
  },
  "language_info": {
   "codemirror_mode": {
    "name": "ipython",
    "version": 3
   },
   "file_extension": ".py",
   "mimetype": "text/x-python",
   "name": "python",
   "nbconvert_exporter": "python",
   "pygments_lexer": "ipython3",
   "version": "3.8.5"
  }
 },
 "nbformat": 4,
 "nbformat_minor": 5
}
